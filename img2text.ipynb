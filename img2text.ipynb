{
  "nbformat": 4,
  "nbformat_minor": 0,
  "metadata": {
    "colab": {
      "provenance": []
    },
    "kernelspec": {
      "name": "python3",
      "display_name": "Python 3"
    },
    "language_info": {
      "name": "python"
    }
  },
  "cells": [
    {
      "cell_type": "markdown",
      "source": [
        "This is an Image to text project."
      ],
      "metadata": {
        "id": "W_6-jajhC-go"
      }
    },
    {
      "cell_type": "code",
      "source": [
        "import io\n",
        "from google.colab import drive\n",
        "drive.mount(\"/content/drive/\")\n",
        "import numpy as np\n",
        "import pandas as pd"
      ],
      "metadata": {
        "colab": {
          "base_uri": "https://localhost:8080/"
        },
        "id": "PicQ45PBEWio",
        "outputId": "a0cbd1ec-2d57-4195-cab8-69c5882968a8"
      },
      "execution_count": null,
      "outputs": [
        {
          "output_type": "stream",
          "name": "stdout",
          "text": [
            "Drive already mounted at /content/drive/; to attempt to forcibly remount, call drive.mount(\"/content/drive/\", force_remount=True).\n"
          ]
        }
      ]
    },
    {
      "cell_type": "code",
      "source": [
        "!sudo apt install tesseract-ocr\n",
        "!pip install pytesseract"
      ],
      "metadata": {
        "colab": {
          "base_uri": "https://localhost:8080/"
        },
        "id": "aUYk4Yp7IP_c",
        "outputId": "113bf75e-cd83-4e5e-a08f-e664e63c9ed6"
      },
      "execution_count": null,
      "outputs": [
        {
          "output_type": "stream",
          "name": "stdout",
          "text": [
            "Reading package lists... Done\n",
            "Building dependency tree... Done\n",
            "Reading state information... Done\n",
            "The following additional packages will be installed:\n",
            "  tesseract-ocr-eng tesseract-ocr-osd\n",
            "The following NEW packages will be installed:\n",
            "  tesseract-ocr tesseract-ocr-eng tesseract-ocr-osd\n",
            "0 upgraded, 3 newly installed, 0 to remove and 45 not upgraded.\n",
            "Need to get 4,816 kB of archives.\n",
            "After this operation, 15.6 MB of additional disk space will be used.\n",
            "Get:1 http://archive.ubuntu.com/ubuntu jammy/universe amd64 tesseract-ocr-eng all 1:4.00~git30-7274cfa-1.1 [1,591 kB]\n",
            "Get:2 http://archive.ubuntu.com/ubuntu jammy/universe amd64 tesseract-ocr-osd all 1:4.00~git30-7274cfa-1.1 [2,990 kB]\n",
            "Get:3 http://archive.ubuntu.com/ubuntu jammy/universe amd64 tesseract-ocr amd64 4.1.1-2.1build1 [236 kB]\n",
            "Fetched 4,816 kB in 0s (10.0 MB/s)\n",
            "debconf: unable to initialize frontend: Dialog\n",
            "debconf: (No usable dialog-like program is installed, so the dialog based frontend cannot be used. at /usr/share/perl5/Debconf/FrontEnd/Dialog.pm line 78, <> line 3.)\n",
            "debconf: falling back to frontend: Readline\n",
            "debconf: unable to initialize frontend: Readline\n",
            "debconf: (This frontend requires a controlling tty.)\n",
            "debconf: falling back to frontend: Teletype\n",
            "dpkg-preconfigure: unable to re-open stdin: \n",
            "Selecting previously unselected package tesseract-ocr-eng.\n",
            "(Reading database ... 121753 files and directories currently installed.)\n",
            "Preparing to unpack .../tesseract-ocr-eng_1%3a4.00~git30-7274cfa-1.1_all.deb ...\n",
            "Unpacking tesseract-ocr-eng (1:4.00~git30-7274cfa-1.1) ...\n",
            "Selecting previously unselected package tesseract-ocr-osd.\n",
            "Preparing to unpack .../tesseract-ocr-osd_1%3a4.00~git30-7274cfa-1.1_all.deb ...\n",
            "Unpacking tesseract-ocr-osd (1:4.00~git30-7274cfa-1.1) ...\n",
            "Selecting previously unselected package tesseract-ocr.\n",
            "Preparing to unpack .../tesseract-ocr_4.1.1-2.1build1_amd64.deb ...\n",
            "Unpacking tesseract-ocr (4.1.1-2.1build1) ...\n",
            "Setting up tesseract-ocr-eng (1:4.00~git30-7274cfa-1.1) ...\n",
            "Setting up tesseract-ocr-osd (1:4.00~git30-7274cfa-1.1) ...\n",
            "Setting up tesseract-ocr (4.1.1-2.1build1) ...\n",
            "Processing triggers for man-db (2.10.2-1) ...\n",
            "Collecting pytesseract\n",
            "  Downloading pytesseract-0.3.10-py3-none-any.whl (14 kB)\n",
            "Requirement already satisfied: packaging>=21.3 in /usr/local/lib/python3.10/dist-packages (from pytesseract) (24.0)\n",
            "Requirement already satisfied: Pillow>=8.0.0 in /usr/local/lib/python3.10/dist-packages (from pytesseract) (9.4.0)\n",
            "Installing collected packages: pytesseract\n",
            "Successfully installed pytesseract-0.3.10\n"
          ]
        }
      ]
    },
    {
      "cell_type": "code",
      "source": [
        "from PIL import Image\n",
        "import pytesseract\n",
        "import requests\n",
        "from io import BytesIO\n",
        "\n",
        "\n",
        "def load_image(image_url):\n",
        "    if image_url.startswith(\"https://\"):\n",
        "        # Download the image from the URL\n",
        "        response = requests.get(image_url)\n",
        "        img = Image.open(BytesIO(response.content))\n",
        "    else:\n",
        "        # Assuming image_url is a local file path\n",
        "        img = Image.open(image_url)\n",
        "    return img\n",
        "\n",
        "# Function to extract text from image URL\n",
        "def extract_text_from_image_url(image_url):\n",
        "\n",
        "    img = load_image(image_url)\n",
        "\n",
        "    # Configure pytesseract to use the Google Colab Tesseract installation path\n",
        "    pytesseract.pytesseract.tesseract_cmd = r'/usr/bin/tesseract'\n",
        "\n",
        "    # Extract text from the image\n",
        "    text = pytesseract.image_to_string(img)\n",
        "\n",
        "    # Display the extracted text\n",
        "    print(text)"
      ],
      "metadata": {
        "id": "kbbONaWBH_o4"
      },
      "execution_count": null,
      "outputs": []
    },
    {
      "cell_type": "code",
      "source": [
        "# List of links\n",
        "links = [\n",
        "    \"/content/drive/MyDrive/TextImg/kangaroo-reading.jpg\",\n",
        "    \"https://replicate.delivery/pbxt/Jj87qg6dTft3R5kFIzda2vorF3epnzwJpv96PsKcgkdZipLV/figure-65.png\",\n",
        "    \"/content/drive/MyDrive/TextImg/sample-handwritten-2.png\"\n",
        "]\n",
        "\n",
        "# Iterate over the links and call the sample function for each link\n",
        "for link in links:\n",
        "    print(\"\\nOUTPUT: \"+link+\" \\n\")\n",
        "    extract_text_from_image_url(link)\n"
      ],
      "metadata": {
        "colab": {
          "base_uri": "https://localhost:8080/"
        },
        "id": "AGfWFxAvUBJj",
        "outputId": "47e54a0b-e2ff-4cea-9fa6-79b7634232f8"
      },
      "execution_count": 26,
      "outputs": [
        {
          "output_type": "stream",
          "name": "stdout",
          "text": [
            "\n",
            "OUTPUT: /content/drive/MyDrive/TextImg/kangaroo-reading.jpg \n",
            "\n",
            " \n",
            "\n",
            "The Kangaroo\n",
            "\n",
            "There are four different types of kangaroo species — the red\n",
            "kangaroo, the eastern gray kangaroo, the western gray\n",
            "kangaroo and the antilopine kangaroo. They are the only large\n",
            "animal that uses hopping as their primary method of locomotion.\n",
            "Its long tail provides balance as they hop. They can hop around\n",
            "quickly on two legs or walk around slowly on all four legs.\n",
            "\n",
            "Kangaroos can jump very high, sometimes three times their own\n",
            "height and they can swim. On land they move their hind legs\n",
            "together, however, in water they kick each leg independently to\n",
            "swim. They eat grass, leaves, herbs and roots. They need little\n",
            "water and can go for months without drinking.\n",
            "\n",
            "Kangaroosare social animals which stay in groups of at least three\n",
            "or four individuals. Some groups can have up to one hundred\n",
            "kangaroos. Most of them are active at night.\n",
            "\n",
            "They usually have one young annually. Females have a pouch in\n",
            "which babies live and drink milk for eight months. Kangaroos\n",
            "usually live about six years in the wild. There are more kangaroos\n",
            "than humans in Australia.\n",
            "\n",
            "© wwwenglishunite.com\n",
            "\f\n",
            "\n",
            "OUTPUT: https://replicate.delivery/pbxt/Jj87qg6dTft3R5kFIzda2vorF3epnzwJpv96PsKcgkdZipLV/figure-65.png \n",
            "\n",
            "It was the best of\n",
            "times, it was the worst\n",
            "of times, it was the age\n",
            "of wisdom, it was the\n",
            "age of foolishness...\n",
            "\f\n",
            "\n",
            "OUTPUT: /content/drive/MyDrive/TextImg/sample-handwritten-2.png \n",
            "\n",
            "Hello,\n",
            "\n",
            "Simply Natect has Sevelapect\n",
            "iperesl re fe PRroypcitary robot se\n",
            "Technolgy te Bete. your message\n",
            "a enveloyes er ee genni ne\n",
            "real Pen. zr a Comp (ef ely\n",
            "\n",
            "swab stirgntthable. Kittin & temcane\n",
            "ken aot wy.\n",
            "\n",
            "Tey us today!\n",
            "\n",
            "Singh “Note!\n",
            "\f\n"
          ]
        }
      ]
    }
  ]
}